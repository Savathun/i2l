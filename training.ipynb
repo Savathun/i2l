{
 "nbformat": 4,
 "nbformat_minor": 0,
 "metadata": {
  "colab": {
   "name": "LaTeX-OCR training.ipynb",
   "provenance": []
  },
  "kernelspec": {
   "name": "python3",
   "language": "python",
   "display_name": "Python 3 (ipykernel)"
  },
  "language_info": {
   "name": "python"
  },
  "accelerator": "GPU",
  "gpuClass": "standard"
 },
 "cells": [
  {
   "cell_type": "code",
   "metadata": {
    "id": "r396ah-Q3EQc",
    "outputId": "7d79f4a8-4e92-462c-8f1c-07f4729aa644",
    "colab": {
     "base_uri": "https://localhost:8080/",
     "height": 1000
    },
    "ExecuteTime": {
     "start_time": "2023-05-04T01:39:02.793283Z",
     "end_time": "2023-05-04T01:39:05.150005Z"
    }
   },
   "source": [
    "import os\n",
    "os.system(\"conda activate i2l\")\n",
    "import pip; pip.main(['install', '-r', 'requirements.txt'])"
   ],
   "execution_count": null,
   "outputs": []
  },
  {
   "cell_type": "code",
   "metadata": {
    "id": "aAz37dDU21zu",
    "cellView": "code",
    "outputId": "74b22bd1-d412-4a61-b41c-5dae40300c7e",
    "colab": {
     "base_uri": "https://localhost:8080/"
    },
    "ExecuteTime": {
     "start_time": "2023-05-04T01:25:22.705449Z",
     "end_time": "2023-05-04T01:28:19.386310Z"
    }
   },
   "source": [
    "os.makedirs(\"model/dataset/data\",  exist_ok=True)\n",
    "import gdown\n",
    "gdown.download(id=\"176PKaCUDWmTJdQwc-OfkO0y8t4gLsIvQ\", output=\"model/dataset/data/pdf.zip\")\n",
    "import zipfile\n",
    "zipfile.ZipFile(\"model/dataset/data/pdf.zip\").extractall(\"dataset/data/\")"
   ],
   "execution_count": null,
   "outputs": []
  },
  {
   "cell_type": "code",
   "source": [
    "!python -m dataset -i model/dataset/data/train -e model/dataset/data/pdfmath.txt -o model/dataset/data/train.pkl"
   ],
   "metadata": {
    "id": "1JebcEarl-g6",
    "outputId": "1737bebe-64b1-4e95-9696-cef1e42561cd",
    "colab": {
     "base_uri": "https://localhost:8080/"
    },
    "ExecuteTime": {
     "start_time": "2023-05-04T01:39:17.305269Z",
     "end_time": "2023-05-04T01:40:05.818570Z"
    }
   },
   "execution_count": null,
   "outputs": []
  },
  {
   "cell_type": "code",
   "source": [
    "!python -m dataset -i model/dataset/data/val -e model/dataset/data/pdfmath.txt -o model/dataset/data/val.pkl"
   ],
   "metadata": {
    "id": "x_Orutb37xHD",
    "outputId": "1119aacd-3cf8-49c2-a446-f32af8d6abde",
    "colab": {
     "base_uri": "https://localhost:8080/"
    },
    "ExecuteTime": {
     "start_time": "2023-05-04T01:40:37.543445Z",
     "end_time": "2023-05-04T01:40:49.957524Z"
    }
   },
   "execution_count": null,
   "outputs": []
  },
  {
   "cell_type": "code",
   "source": [
    "# If using wandb\n",
    "!pip install -q wandb \n",
    "# you can cancel this if you don't wan't to use it or don't have a W&B acc.\n",
    "!wandb login"
   ],
   "metadata": {
    "id": "vow2NnpHmWt0",
    "outputId": "c0f87f47-d82d-4655-e79a-5facb4874ade",
    "colab": {
     "base_uri": "https://localhost:8080/"
    },
    "ExecuteTime": {
     "start_time": "2023-05-04T01:41:59.797092Z",
     "end_time": "2023-05-04T01:42:06.097231Z"
    }
   },
   "execution_count": null,
   "outputs": []
  },
  {
   "cell_type": "code",
   "metadata": {
    "id": "c8NU5j2k3z36",
    "outputId": "0b7c9494-99c7-417c-f163-6e7e1a7ae140",
    "colab": {
     "base_uri": "https://localhost:8080/"
    },
    "ExecuteTime": {
     "start_time": "2023-05-04T02:12:26.817182Z",
     "end_time": "2023-05-04T02:16:09.015380Z"
    },
    "pycharm": {
     "is_executing": true
    }
   },
   "source": [
    "!python -m train --config model/settings/config.yaml"
   ],
   "execution_count": null,
   "outputs": []
  }
 ]
}
